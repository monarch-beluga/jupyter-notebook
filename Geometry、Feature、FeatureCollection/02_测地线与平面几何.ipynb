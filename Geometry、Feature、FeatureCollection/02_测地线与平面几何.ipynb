
 {
 "cells":[
  {
   "cell_type":"markdown",
   "metadata":{
    "collapsed":false,
    "pycharm":{
     "name":"#%% md\n"
    }
   },
   "source":[
    "<a href=\"https://notebooks.gesis.org/binder/v2/gh/monarch-beluga/Geemap_Tutorials/master?filepath=Geometry%E3%80%81Feature%E3%80%81FeatureCollection%2F02_%E6%B5%8B%E5%9C%B0%E7%BA%BF%E4%B8%8E%E5%B9%B3%E9%9D%A2%E5%87%A0%E4%BD%95.ipynb\" target=\"_parent\">\n",
    "<img src=\"https://notebooks.gesis.org/binder/badge_logo.svg\" alt=\"launch binder\"/>\n",
    "</a>"
   ]
  },
  {
   "cell_type":"code",
   "execution_count":null,
   "metadata":{
    "collapsed":false,
    "pycharm":{
     "name":"#%%\n"
    }
   },
   "outputs":[],
   "source":[
    "# !pip install geemap"
   ]
  },
  {
   "cell_type":"code",
   "execution_count":1,
   "metadata":{},
   "outputs":[],
   "source":[
    "import geemap\n",
    "import ee"
   ]
  },
  {
   "cell_type":"code",
   "execution_count":2,
   "metadata":{},
   "outputs":[
    {
     "data":{
      "application/vnd.jupyter.widget-view+json":{
       "model_id":"ad1b7a34abb841aa9d72127c2a81c26c",
       "version_major":2,
       "version_minor":0
      },
      "text/plain":[
       "Map(center=[40, -100], controls=(WidgetControl(options=['position'], widget=HBox(children=(ToggleButton(value=\u2026"
      ]
     },
     "metadata":{},
     "output_type":"display_data"
    }
   ],
   "source":[
    "Map = geemap.Map()\n",
    "Map"
   ]
  },
  {
   "cell_type":"code",
   "execution_count":3,
   "metadata":{},
   "outputs":[],
   "source":[
    "polygon = ee.Geometry.Polygon([\n",
    "    [[-5, 40], [65, 40], [65, 60], [-5, 60], [-5, 60]]\n",
    "])\n",
    "planarPolygon = ee.Geometry(polygon, None, False)"
   ]
  },
  {
   "cell_type":"code",
   "execution_count":4,
   "metadata":{},
   "outputs":[],
   "source":[
    "Map.addLayer(polygon, {'color':'ff0000'}, 'polygon')\n",
    "Map.addLayer(planarPolygon, {}, 'planarPolygon')\n",
    "Map.center_object(polygon, 3)"
   ]
  },
  {
   "cell_type":"code",
   "execution_count":null,
   "metadata":{},
   "outputs":[],
   "source":[]
  }
 ],
 "metadata":{
  "kernelspec":{
   "display_name":"Python 3",
   "language":"python",
   "name":"python3"
  },
  "language_info":{
   "codemirror_mode":{
    "name":"ipython",
    "version":3
   },
   "file_extension":".py",
   "mimetype":"text/x-python",
   "name":"python",
   "nbconvert_exporter":"python",
   "pygments_lexer":"ipython3",
   "version":"3.8.3"
  },
  "varInspector":{
   "cols":{
    "lenName":16,
    "lenType":16,
    "lenVar":40
   },
   "kernels_config":{
    "python":{
     "delete_cmd_postfix":"",
     "delete_cmd_prefix":"del ",
     "library":"var_list.py",
     "varRefreshCmd":"print(var_dic_list())"
    },
    "r":{
     "delete_cmd_postfix":") ",
     "delete_cmd_prefix":"rm(",
     "library":"var_list.r",
     "varRefreshCmd":"cat(var_dic_list()) "
    }
   },
   "oldHeight":122.22178,
   "position":{
    "height":"40px",
    "left":"794.01px",
    "right":"20px",
    "top":"120px",
    "width":"250.434px"
   },
   "types_to_exclude":[
    "module",
    "function",
    "builtin_function_or_method",
    "instance",
    "_Feature"
   ],
   "varInspector_section_display":"none",
   "window_display":true
  }
 },
 "nbformat":4,
 "nbformat_minor":4
}