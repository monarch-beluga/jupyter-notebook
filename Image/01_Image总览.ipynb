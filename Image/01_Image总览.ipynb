
 {
 "cells":[
  {
   "cell_type":"markdown",
   "metadata":{
    "collapsed":false
   },
   "source":[
    "<a href=\"https://notebooks.gesis.org/binder/v2/gh/monarch-beluga/Geemap_Tutorials/master?filepath=Image%2F01_Image%E6%80%BB%E8%A7%88.ipynb\" target=\"_parent\">\n",
    "<img src=\"https://notebooks.gesis.org/binder/badge_logo.svg\" alt=\"launch binder\"/>\n",
    "</a>"
   ]
  },
  {
   "cell_type":"code",
   "execution_count":null,
   "metadata":{
    "collapsed":false,
    "pycharm":{
     "name":"#%%\n"
    }
   },
   "outputs":[],
   "source":[
    "# !pip install geemap"
   ]
  },
  {
   "cell_type":"code",
   "execution_count":1,
   "metadata":{},
   "outputs":[],
   "source":[
    "import geemap\n",
    "import ee"
   ]
  },
  {
   "cell_type":"code",
   "execution_count":null,
   "metadata":{
    "scrolled":true
   },
   "outputs":[],
   "source":[
    "Map = geemap.Map()\n",
    "Map"
   ]
  },
  {
   "cell_type":"markdown",
   "metadata":{},
   "source":[
    "# \u6dfb\u52a0Image\u56fe\u5c42"
   ]
  },
  {
   "cell_type":"code",
   "execution_count":null,
   "metadata":{},
   "outputs":[],
   "source":[
    "# ee.Image\u7528gee\u4e2d\u7684asset ID\u4e3a\u53c2\u6570\u5bfc\u5165ee\u56fe\u5c42\u6570\u636e\n",
    "# \u8fd9\u4e2aasset ID \u53ef\u4ee5\u4e3agee\u91cc\u81ea\u5e26\u7684ID\uff0c\u4e5f\u53ef\u4ee5\u662f\u4e2a\u4eba\u7528\u6237\u4e0a\u4f20\u5230gee\u7684ID\n",
    "loadedImage = ee.Image('JAXA/ALOS/AW3D30/V2_2')\n",
    "# Map.addLayer\u4e3a\u5411geemap.Map\u5bf9\u8c61\u4e2d\u6dfb\u52a0\u56fe\u5c42\uff0c\u4e5f\u53ef\u4ee5\u5199\u6210Map.add_ee_layer\n",
    "Map.addLayer(loadedImage, {}, 'loadedImage', opacity=0.5)\n",
    "# \u56db\u4e2a\u53c2\u6570\uff1a\u7b2c\u4e00\u4e2a\u4e3aee\u6570\u636e\u5bf9\u8c61\n",
    "# \u7b2c\u4e8c\u4e2a\u4e3a\u4e00\u4e2a\u5b57\u5178\uff0c\u91cc\u9762\u53ef\u4ee5\u8bbe\u5b9a\u8f93\u51fa\u56fe\u50cf\u7684\u53ef\u89c6\u5316\u53c2\u6570\uff0c\u5982\uff1a\u503c\u7684\u8303\u56f4\uff0c\u548c\u56fe\u50cf\u663e\u793a\u7684\u8272\u5e26\n",
    "# \u7b2c\u4e09\u4e2a\u4e3a\u56fe\u5c42\u540d\u79f0\uff0c\u4e3a Layer N\n",
    "# \u7b2c\u56db\u4e2a\u4e3a\u56fe\u5c42\u7684\u900f\u660e\u5ea6\uff0c\u9ed8\u8ba4\u4e3a1\n",
    "# \u8fd8\u6709\u4e00\u4e2a\u53c2\u6570\u4e3ashown\uff0c\u4e3a\u662f\u5426\u663e\u793a\u5230\u56fe\u5c42\uff0c\u9ed8\u8ba4\u4e3aTrue\uff0c\u4e0d\u8fc7\u73b0\u5728\u6ca1\u7528\u4e86\uff0c\u4e0d\u7ba1\u662fFalse\u8fd8\u662fTrue\u6548\u679c\u90fd\u4e00\u6837"
   ]
  },
  {
   "cell_type":"code",
   "execution_count":null,
   "metadata":{},
   "outputs":[],
   "source":[
    "dem = ee.Image('users/2431566134liumonarch/dem')\n",
    "Map.addLayer(dem, {}, 'dem')"
   ]
  },
  {
   "cell_type":"markdown",
   "metadata":{},
   "source":[
    "# \u5728ImageCollection\u4e2d\u6dfb\u52a0Image\u56fe\u5c42\u5bf9\u8c61"
   ]
  },
  {
   "cell_type":"code",
   "execution_count":null,
   "metadata":{},
   "outputs":[],
   "source":[
    "first = (ee.ImageCollection('COPERNICUS/S2_SR')\n",
    "                .filterBounds(ee.Geometry.Point(-70.48, 43.3631))\n",
    "                .filterDate('2019-01-01', '2019-12-31')\n",
    "                .sort('CLOUDY_PIXEL_PERCENTAGE')\n",
    "                .first())      # \u9009\u62e9\u7b2c\u4e00\u4e2aImage\n",
    "# filterBounds\u7b5b\u9009\u5f71\u50cf\u8303\u56f4\uff0c filterDate\u7b5b\u9009\u5f71\u50cf\u65f6\u95f4\n",
    "# sort\u6309\u6307\u5b9aImage\u5c5e\u6027\u5bf9\u96c6\u5408\u8fdb\u884c\u6392\u5e8f\n",
    "Map.centerObject(first, 8)\n",
    "# centerObject = center_object\u4f5c\u7528\u662f\u5c06\u5730\u56fe\u89c6\u56fe\u7684\u4e2d\u5fc3\u4f4d\u4e8e\u6307\u5bf9\u8c61\u7684\u5de6\u4e0a\u89d2\u6765\u663e\u793a\uff0c11\u8868\u793a\u663e\u793a\u7f29\u653e\u7b49\u7ea7\n",
    "Map.addLayer(first, {'bands': ['B4', 'B3', 'B2'], 'min': 0, 'max': 2000}, 'first')"
   ]
  },
  {
   "cell_type":"markdown",
   "metadata":{},
   "source":[
    "# Image\u6570\u636e\u7684\u57fa\u7840\u64cd\u4f5c"
   ]
  },
  {
   "cell_type":"code",
   "execution_count":null,
   "metadata":{},
   "outputs":[],
   "source":[
    "image1 = ee.Image(1)\n",
    "print(image1.getInfo())\n",
    "# \u6839\u636e\u5e38\u91cf\u521b\u5efaee\u5bf9\u8c61"
   ]
  },
  {
   "cell_type":"code",
   "execution_count":null,
   "metadata":{},
   "outputs":[],
   "source":[
    "image2 = ee.Image(2)\n",
    "image3 = ee.Image(3)\n",
    "image4 = ee.Image.cat([image1, image2, image3])\n",
    "print(image4.getInfo())\n",
    "# ee\u5bf9\u8c61\u7684\u5408\u5e76"
   ]
  },
  {
   "cell_type":"code",
   "execution_count":null,
   "metadata":{},
   "outputs":[],
   "source":[
    "multiband = ee.Image([1, 2, 3])\n",
    "print(multiband.getInfo())"
   ]
  },
  {
   "cell_type":"code",
   "execution_count":null,
   "metadata":{},
   "outputs":[],
   "source":[
    "renamed = multiband.select(\n",
    "    [0, 1, 2], # old names\n",
    "    ['band1', 'band2', 'band3']               # new names\n",
    ")\n",
    "print(renamed.getInfo())\n",
    "# ee\u5bf9\u8c61\u4fee\u6539\u6ce2\u6bb5\u540d"
   ]
  },
  {
   "cell_type":"code",
   "execution_count":null,
   "metadata":{},
   "outputs":[],
   "source":[
    "image5 = image4.addBands(ee.Image(42))\n",
    "print(image5.getInfo())\n",
    "# \u5411ee\u5bf9\u8c61\u4e2d\u6dfb\u52a0\u6ce2\u6bb5"
   ]
  },
  {
   "cell_type":"markdown",
   "metadata":{},
   "source":[
    "# select\u51fd\u6570\u5e94\u7528"
   ]
  },
  {
   "cell_type":"code",
   "execution_count":null,
   "metadata":{},
   "outputs":[],
   "source":[
    "# \u5bfc\u5165ee\u56fe\u5c42\u4e2d\u7684\u6307\u5b9a\u6ce2\u6bb5\u2014\u2014\u2014\u2014select\u51fd\u6570\uff0cselect\u6709\u4e24\u79cd\u4f20\u9012\u7684\u53c2\u6570\u65b9\u5f0f\n",
    "# \u7b2c\u4e00\u79cd\u76f4\u63a5\u4f20\u9012\u6ce2\u6bb5\u7d22\u5f15\u503c\u6216\u6ce2\u6bb5\u540d\u79f0\u6216\u5176\u540d\u79f0\u7684\u6b63\u5219\u8868\u8fbe\u5f0f\u7ec4\u6210\u7684\u975e\u5217\u8868\u5e8f\u5217\uff0c\u5982\u4e0b\uff1a\n",
    "loadedImage = ee.Image('JAXA/ALOS/AW3D30/V2_2').select('.*?DSM', 'AVE_STK', 2)\n",
    "Map.addLayer(loadedImage, {}, 'loadedImage')"
   ]
  },
  {
   "cell_type":"code",
   "execution_count":null,
   "metadata":{},
   "outputs":[],
   "source":[
    "# \u7b2c\u4e8c\u79cd\u4f20\u9012\u4e24\u4e2a\u5217\u8868\uff0c\u7b2c\u4e00\u4e2a\u5217\u8868\u7528\u4e8e\u6ce2\u6bb5\u7b5b\u9009\uff0c\u7b2c\u4e8c\u4e2a\u5217\u8868\u7528\u4e8e\u6307\u5b9a\u6ce2\u6bb5\u7684\u65b0\u540d\u79f0\n",
    "# \u4e24\u4e2a\u5217\u8868\u7684\u5143\u7d20\u4e2a\u6570\u5fc5\u987b\u4e00\u81f4\uff0c\u5982\u4e0b\uff1a\n",
    "loadedImage_All = ee.Image('JAXA/ALOS/AW3D30/V2_2').select([0, 1], ['A', 'B'])\n",
    "Map.addLayer(loadedImage_All, {}, 'All')\n",
    "Map.addLayer(loadedImage_All.select(0), {}, 'A')\n",
    "Map.addLayer(loadedImage_All.select('B'), {}, 'B')"
   ]
  },
  {
   "cell_type":"code",
   "execution_count":null,
   "metadata":{},
   "outputs":[],
   "source":[]
  }
 ],
 "metadata":{
  "kernelspec":{
   "display_name":"Python 3",
   "language":"python",
   "name":"python3"
  },
  "language_info":{
   "codemirror_mode":{
    "name":"ipython",
    "version":3
   },
   "file_extension":".py",
   "mimetype":"text/x-python",
   "name":"python",
   "nbconvert_exporter":"python",
   "pygments_lexer":"ipython3",
   "version":"3.8.3"
  }
 },
 "nbformat":4,
 "nbformat_minor":4
}