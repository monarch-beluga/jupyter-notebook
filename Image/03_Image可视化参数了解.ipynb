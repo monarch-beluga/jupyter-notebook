
 {
 "cells":[
  {
   "cell_type":"markdown",
   "metadata":{
    "collapsed":false
   },
   "source":[
    "<a href=\"https://notebooks.gesis.org/binder/v2/gh/monarch-beluga/Geemap_Tutorials/master?filepath=Image%2F03_Image%E5%8F%AF%E8%A7%86%E5%8C%96%E5%8F%82%E6%95%B0%E4%BA%86%E8%A7%A3.ipynb\" target=\"_parent\">\n",
    "<img src=\"https://notebooks.gesis.org/binder/badge_logo.svg\" alt=\"launch binder\"/>\n",
    "</a>"
   ]
  },
  {
   "cell_type":"code",
   "execution_count":null,
   "metadata":{
    "collapsed":false,
    "pycharm":{
     "name":"#%%\n"
    }
   },
   "outputs":[],
   "source":[
    "# !pip install geemap"
   ]
  },
  {
   "cell_type":"code",
   "execution_count":null,
   "metadata":{},
   "outputs":[],
   "source":[
    "import geemap\n",
    "import ee"
   ]
  },
  {
   "cell_type":"code",
   "execution_count":null,
   "metadata":{},
   "outputs":[],
   "source":[
    "Map = geemap.Map()\n",
    "Map"
   ]
  },
  {
   "cell_type":"code",
   "execution_count":null,
   "metadata":{},
   "outputs":[],
   "source":[
    "image = ee.Image('LANDSAT/LC08/C01/T1_TOA/LC08_044034_20140318').select('B3', 'B4', 'B5')\n",
    "vizParams = {\n",
    "  'bands': ['B5', 'B4', 'B3'],\n",
    "  'min': 0,\n",
    "  'max': 0.5,\n",
    "  'gamma': [0.95, 1.1, 1]\n",
    "}\n",
    "Map.setCenter(-122.1899, 37.5010, 8)      # \u6309\u5730\u56fe\u89c6\u56fe\u6309\u7ecf\u7eac\u5ea6\u5750\u6807\u6765\n",
    "Map.addLayer(image, vizParams, 'false color composite')\n",
    "# bands\u53c2\u6570\u9700\u8981\u4e00\u4e2a\u6709\u4e14\u53ea\u542b\u4e09\u4e2a\u5143\u7d20\u7684\u5217\u8868\uff0c\u5217\u8868\u91cc\u6bcf\u4e00\u4e2a\u53c2\u6570\u4e3a\u5f71\u50cf\u7684\u4e00\u4e2a\u6ce2\u6bb5\u7684\u540d\u79f0\n",
    "# \u7528\u8fd9\u4e09\u4e2a\u6ce2\u6bb5\u6765\u6620\u5c04\u5230RGB\u7684\u7ea2\u7eff\u84dd\u4e09\u79cd\u989c\u8272\u4e2d\n",
    "# min,max\u8bbe\u7f6e\u663e\u793a\u6ce2\u6bb5\u503c\u7684\u989c\u8272\u8303\u56f4\n",
    "# gamma\uff0c\u5373\u7528\u4e8egamma\u77eb\u6b63\u7684\u4e00\u4e9b\u53c2\u6570\uff0c\u4ee5\u77eb\u6b63\u56fe\u50cf"
   ]
  },
  {
   "cell_type":"code",
   "execution_count":null,
   "metadata":{},
   "outputs":[],
   "source":[
    "image = ee.Image('LANDSAT/LC08/C01/T1_TOA/LC08_044034_20140318')\n",
    "ndwi = image.normalizedDifference(['B3', 'B5'])\n",
    "# \u8ba1\u7b97\u4e24\u4e2a\u6ce2\u6bb5\u4e4b\u95f4\u5f52\u4e00\u5316\u5dee\u5f02\u8ba1\u7b97\u65b9\u6cd5\u4e3a\u4e24\u4e2a\u6ce2\u6bb5\u4e4b\u5dee\u9664\u4ee5\u4e24\u4e2a\u6ce2\u6bb5\u4e4b\u548c\n",
    "ndwiViz = {'min': 0.5, 'max': 1, 'palette': ['00FFFF', '0000FF']}\n",
    "Map.setCenter(-122.1899, 37.5010, 8)\n",
    "Map.addLayer(ndwi, ndwiViz, 'NDWI')\n",
    "# palette\uff0c\u7528\u4e8e\u4ee5\u5f69\u8272\u663e\u793a\u5355\u6ce2\u6bb5\u7684\u56fe\u50cf\uff0c\u7531CSS\u6837\u5f0f\u7684\u989c\u8272\u5b57\u7b26\u4e32\u5217\u8868\u6765\u5efa\u7acb\u8272\u5e26\u663e\u793a\u56fe\u50cf"
   ]
  },
  {
   "cell_type":"code",
   "execution_count":null,
   "metadata":{},
   "outputs":[],
   "source":[
    "ndwiMasked = ndwi.updateMask(ndwi.gte(0.4))\n",
    "Map.addLayer(ndwiMasked, ndwiViz, 'NDWI masked')\n",
    "# updateMask,\u5c06\u4e0d\u7b26\u5408\u8981\u6c42\u7684\u70b9\u5728\u56fe\u50cf\u4e0a\u8bbe\u7f6e\u6210\u4e0d\u900f\u660e\u5ea6\u4e3a0"
   ]
  },
  {
   "cell_type":"code",
   "execution_count":null,
   "metadata":{},
   "outputs":[],
   "source":[
    "imageRGB = image.visualize(**{'bands': ['B5',  'B4',  'B3'], 'max': 0.5})\n",
    "ndwiRGB = ndwiMasked.visualize(**{\n",
    "  'min': 0.5,\n",
    "  'max': 1,\n",
    "  'palette': ['00FFFF', '0000FF']\n",
    "})\n",
    "Map.addLayer(imageRGB, {}, \"imageRGB\")\n",
    "Map.addLayer(ndwiRGB, {}, \"ndwiRGB\")\n",
    "# visualize\u53ef\u89c6\u5316\u56fe\u50cf\u7684RGB\u548c\u7070\u5ea6\u503c"
   ]
  },
  {
   "cell_type":"code",
   "execution_count":null,
   "metadata":{},
   "outputs":[],
   "source":[
    "mosaic = ee.ImageCollection([imageRGB, ndwiRGB]).mosaic()\n",
    "Map.addLayer(mosaic, {}, 'mosaic')\n",
    "# \u5148\u7528ImageCollection\u5efa\u7acb\u5f71\u50cf\u96c6\uff0c\u7136\u540e\u7528.mosaic()\u6309\u96c6\u5408\u4e2d\u7684\u5f71\u50cf\u987a\u5e8f\u7ed8\u5236\u56fe\u5c42\n",
    "# \u5b9e\u73b0\u4e00\u79cd\u9576\u5d4c\u7684\u6548\u679c"
   ]
  },
  {
   "cell_type":"code",
   "execution_count":null,
   "metadata":{},
   "outputs":[],
   "source":[
    "roi = ee.Geometry.Point([-122.4481, 37.7599]).buffer(20000)\n",
    "Map.addLayer(mosaic.clip(roi))\n",
    "# clip\u4e3a\u88c1\u526a\u56fe\u5c42"
   ]
  },
  {
   "cell_type":"code",
   "execution_count":null,
   "metadata":{},
   "outputs":[],
   "source":[
    "cover = ee.Image('MODIS/051/MCD12Q1/2012_01_01') \\\n",
    "  .select('Land_Cover_Type_1')\n",
    "\n",
    "igbpPalette = [\n",
    "  'aec3d4', # water\n",
    "  '152106', '225129', '369b47', '30eb5b', '387242', # forest\n",
    "  '6a2325', 'c3aa69', 'b76031', 'd9903d', '91af40',  # shrub, grass\n",
    "  '111149', # wetlands\n",
    "  'cdb33b', # croplands\n",
    "  'cc0013', # urban\n",
    "  '33280d', # crop mosaic\n",
    "  'd7cdcc', # snow and ice\n",
    "  'f7e084', # barren\n",
    "  '6f6f6f'  # tundra\n",
    "]\n",
    "\n",
    "Map.setCenter(-99.229, 40.413, 5)\n",
    "Map.addLayer(cover,\n",
    "             {'min': 0, 'max': 17, 'palette': igbpPalette},\n",
    "             'IGBP classification')"
   ]
  },
  {
   "cell_type":"code",
   "execution_count":null,
   "metadata":{},
   "outputs":[],
   "source":[
    "\n",
    "cover = ee.Image('MODIS/051/MCD12Q1/2012_01_01').select('Land_Cover_Type_1')\n",
    "\n",
    "# Define an SLD style of discrete intervals to apply to the image.\n",
    "sld_intervals = \\\n",
    "'<RasterSymbolizer>' + \\\n",
    " ' <ColorMap type=\"intervals\" extended=\"False\" >' + \\\n",
    "    '<ColorMapEntry color=\"#aec3d4\" quantity=\"0\" label=\"Water\"/>' + \\\n",
    "    '<ColorMapEntry color=\"#152106\" quantity=\"1\" label=\"Evergreen Needleleaf Forest\"/>' + \\\n",
    "    '<ColorMapEntry color=\"#225129\" quantity=\"2\" label=\"Evergreen Broadleaf Forest\"/>' + \\\n",
    "    '<ColorMapEntry color=\"#369b47\" quantity=\"3\" label=\"Deciduous Needleleaf Forest\"/>' + \\\n",
    "    '<ColorMapEntry color=\"#30eb5b\" quantity=\"4\" label=\"Deciduous Broadleaf Forest\"/>' + \\\n",
    "    '<ColorMapEntry color=\"#387242\" quantity=\"5\" label=\"Mixed Deciduous Forest\"/>' + \\\n",
    "    '<ColorMapEntry color=\"#6a2325\" quantity=\"6\" label=\"Closed Shrubland\"/>' + \\\n",
    "    '<ColorMapEntry color=\"#c3aa69\" quantity=\"7\" label=\"Open Shrubland\"/>' + \\\n",
    "    '<ColorMapEntry color=\"#b76031\" quantity=\"8\" label=\"Woody Savanna\"/>' + \\\n",
    "    '<ColorMapEntry color=\"#d9903d\" quantity=\"9\" label=\"Savanna\"/>' + \\\n",
    "    '<ColorMapEntry color=\"#91af40\" quantity=\"10\" label=\"Grassland\"/>' + \\\n",
    "    '<ColorMapEntry color=\"#111149\" quantity=\"11\" label=\"Permanent Wetland\"/>' + \\\n",
    "    '<ColorMapEntry color=\"#cdb33b\" quantity=\"12\" label=\"Cropland\"/>' + \\\n",
    "    '<ColorMapEntry color=\"#cc0013\" quantity=\"13\" label=\"Urban\"/>' + \\\n",
    "    '<ColorMapEntry color=\"#33280d\" quantity=\"14\" label=\"Crop, Natural Veg. Mosaic\"/>' + \\\n",
    "    '<ColorMapEntry color=\"#d7cdcc\" quantity=\"15\" label=\"Permanent Snow, Ice\"/>' + \\\n",
    "    '<ColorMapEntry color=\"#f7e084\" quantity=\"16\" label=\"Barren, Desert\"/>' + \\\n",
    "    '<ColorMapEntry color=\"#6f6f6f\" quantity=\"17\" label=\"Tundra\"/>' + \\\n",
    "  '</ColorMap>' + \\\n",
    "'</RasterSymbolizer>'\n",
    "Map.addLayer(cover.sldStyle(sld_intervals), {}, 'IGBP classification styled')\n"
   ]
  },
  {
   "cell_type":"code",
   "execution_count":null,
   "metadata":{},
   "outputs":[],
   "source":[
    "\n",
    "image = ee.Image('CGIAR/SRTM90_V4')\n",
    "\n",
    "sld_intervals = \\\n",
    "  '<RasterSymbolizer>' + \\\n",
    "    '<ColorMap type=\"intervals\" extended=\"False\" >' + \\\n",
    "      '<ColorMapEntry color=\"#0000ff\" quantity=\"0\" label=\"0\"/>' + \\\n",
    "      '<ColorMapEntry color=\"#00ff00\" quantity=\"100\" label=\"1-100\" />' + \\\n",
    "      '<ColorMapEntry color=\"#007f30\" quantity=\"200\" label=\"110-200\" />' + \\\n",
    "      '<ColorMapEntry color=\"#30b855\" quantity=\"300\" label=\"210-300\" />' + \\\n",
    "      '<ColorMapEntry color=\"#ff0000\" quantity=\"400\" label=\"310-400\" />' + \\\n",
    "      '<ColorMapEntry color=\"#ffff00\" quantity=\"1000\" label=\"410-1000\" />' + \\\n",
    "    '</ColorMap>' + \\\n",
    "  '</RasterSymbolizer>'\n",
    "\n",
    "sld_ramp = \\\n",
    "  '<RasterSymbolizer>' + \\\n",
    "    '<ColorMap type=\"ramp\" extended=\"False\" >' + \\\n",
    "      '<ColorMapEntry color=\"#0000ff\" quantity=\"0\" label=\"0\"/>' + \\\n",
    "      '<ColorMapEntry color=\"#00ff00\" quantity=\"100\" label=\"100\" />' + \\\n",
    "      '<ColorMapEntry color=\"#007f30\" quantity=\"200\" label=\"200\" />' + \\\n",
    "      '<ColorMapEntry color=\"#30b855\" quantity=\"300\" label=\"300\" />' + \\\n",
    "      '<ColorMapEntry color=\"#ff0000\" quantity=\"400\" label=\"400\" />' + \\\n",
    "      '<ColorMapEntry color=\"#ffff00\" quantity=\"500\" label=\"500\" />' + \\\n",
    "    '</ColorMap>' + \\\n",
    "  '</RasterSymbolizer>'\n",
    "\n",
    "Map.setCenter(-76.8054, 42.0289, 8)\n",
    "Map.addLayer(image.sldStyle(sld_intervals), {}, 'SLD intervals')\n",
    "Map.addLayer(image.sldStyle(sld_ramp), {}, 'SLD ramp')"
   ]
  },
  {
   "cell_type":"code",
   "execution_count":null,
   "metadata":{},
   "outputs":[],
   "source":[
    "image = ee.Image('LANDSAT/LC08/C01/T1/LC08_044034_20140318')\n",
    "\n",
    "template_sld = \\\n",
    "  '<RasterSymbolizer>' + \\\n",
    "    '<ContrastEnhancement><_enhance_/></ContrastEnhancement>' + \\\n",
    "    '<ChannelSelection>' + \\\n",
    "      '<RedChannel>' + \\\n",
    "        '<SourceChannelName>B5</SourceChannelName>' + \\\n",
    "      '</RedChannel>' + \\\n",
    "      '<GreenChannel>' + \\\n",
    "        '<SourceChannelName>B4</SourceChannelName>' + \\\n",
    "      '</GreenChannel>' + \\\n",
    "      '<BlueChannel>' + \\\n",
    "        '<SourceChannelName>B3</SourceChannelName>' + \\\n",
    "      '</BlueChannel>' + \\\n",
    "    '</ChannelSelection>' + \\\n",
    "  '</RasterSymbolizer>'\n",
    "\n",
    "equalize_sld = template_sld.replace('_enhance_', 'Histogram')\n",
    "normalize_sld = template_sld.replace('_enhance_', 'Normalize')\n",
    "\n",
    "Map.centerObject(image, 10)\n",
    "Map.addLayer(image, {'bands': ['B5',  'B4',  'B3'], 'min': 0, 'max': 15000}, 'Linear')\n",
    "Map.addLayer(image.sldStyle(equalize_sld), {}, 'Equalized')\n",
    "Map.addLayer(image.sldStyle(normalize_sld), {}, 'Normalized')\n"
   ]
  },
  {
   "cell_type":"code",
   "execution_count":null,
   "metadata":{},
   "outputs":[],
   "source":[]
  }
 ],
 "metadata":{
  "kernelspec":{
   "display_name":"Python 3",
   "language":"python",
   "name":"python3"
  },
  "language_info":{
   "codemirror_mode":{
    "name":"ipython",
    "version":3
   },
   "file_extension":".py",
   "mimetype":"text/x-python",
   "name":"python",
   "nbconvert_exporter":"python",
   "pygments_lexer":"ipython3",
   "version":"3.8.3"
  }
 },
 "nbformat":4,
 "nbformat_minor":4
}