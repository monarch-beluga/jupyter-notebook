
 {
 "cells":[
  {
   "cell_type":"markdown",
   "metadata":{
    "collapsed":false
   },
   "source":[
    "<a href=\"https://notebooks.gesis.org/binder/v2/gh/monarch-beluga/Geemap_Tutorials/master?filepath=Image%2F02_Image%E5%85%83%E6%95%B0%E6%8D%AE%E4%BF%A1%E6%81%AF.ipynb\" target=\"_parent\">\n",
    "<img src=\"https://notebooks.gesis.org/binder/badge_logo.svg\" alt=\"launch binder\"/>\n",
    "</a>"
   ]
  },
  {
   "cell_type":"code",
   "execution_count":null,
   "metadata":{
    "collapsed":false,
    "pycharm":{
     "name":"#%%\n"
    }
   },
   "outputs":[],
   "source":[
    "# !pip install geemap"
   ]
  },
  {
   "cell_type":"code",
   "execution_count":null,
   "metadata":{
    "collapsed":false,
    "pycharm":{
     "name":"#%%\n"
    }
   },
   "outputs":[],
   "source":[
    "import geemap\n",
    "import ee\n",
    "\n",
    "Map = geemap.Map()\n",
    "Map"
   ]
  },
  {
   "cell_type":"code",
   "execution_count":null,
   "metadata":{},
   "outputs":[],
   "source":[
    "image = ee.Image('LANDSAT/LC08/C01/T1/LC08_044034_20140318')\n",
    "Map.addLayer(image, {}, \"Landsat8\")"
   ]
  },
  {
   "cell_type":"code",
   "execution_count":null,
   "metadata":{},
   "outputs":[],
   "source":[
    "bandNames = image.bandNames().getInfo()\n",
    "print('Band names: ', bandNames)"
   ]
  },
  {
   "cell_type":"code",
   "execution_count":null,
   "metadata":{},
   "outputs":[],
   "source":[
    "b1proj = image.select('B1').projection().getInfo()\n",
    "print('Band 1 projection: ', b1proj)"
   ]
  },
  {
   "cell_type":"code",
   "execution_count":null,
   "metadata":{},
   "outputs":[],
   "source":[
    "b1scale = image.select('B4').projection().nominalScale().getInfo()\n",
    "print('Band 1 scale: ', b1scale)"
   ]
  },
  {
   "cell_type":"code",
   "execution_count":null,
   "metadata":{},
   "outputs":[],
   "source":[
    "properties = image.propertyNames().getInfo()\n",
    "print('Metadata properties: ', properties)"
   ]
  },
  {
   "cell_type":"code",
   "execution_count":null,
   "metadata":{},
   "outputs":[],
   "source":[
    "cloudiness = image.get('CLOUD_COVER').getInfo()\n",
    "print('CLOUD_COVER: ', cloudiness)"
   ]
  },
  {
   "cell_type":"code",
   "execution_count":null,
   "metadata":{},
   "outputs":[],
   "source":[
    "image.get('system:time_start').getInfo()"
   ]
  },
  {
   "cell_type":"code",
   "execution_count":null,
   "metadata":{},
   "outputs":[],
   "source":[
    "date = ee.Date(image.get('system:time_start')).format('YYYY-MM-dd HH:mm:ss').getInfo()\n",
    "print('Timestamp: ', date)"
   ]
  }
 ],
 "metadata":{
  "kernelspec":{
   "display_name":"Python 3",
   "language":"python",
   "name":"python3"
  },
  "language_info":{
   "codemirror_mode":{
    "name":"ipython",
    "version":3
   },
   "file_extension":".py",
   "mimetype":"text/x-python",
   "name":"python",
   "nbconvert_exporter":"python",
   "pygments_lexer":"ipython3",
   "version":"3.8.3"
  }
 },
 "nbformat":4,
 "nbformat_minor":4
}