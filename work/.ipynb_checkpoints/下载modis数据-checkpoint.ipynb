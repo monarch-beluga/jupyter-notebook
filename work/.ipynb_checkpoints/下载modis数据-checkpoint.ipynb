{
 "cells": [
  {
   "cell_type": "code",
   "execution_count": null,
   "metadata": {},
   "outputs": [],
   "source": [
    "import ee\n",
    "import geemap\n",
    "import os"
   ]
  },
  {
   "cell_type": "code",
   "execution_count": null,
   "metadata": {},
   "outputs": [],
   "source": [
    "Map = geemap.Map(center=(20, 80)) #center参数是打开地图的中心点经纬度坐标\n",
    "Map"
   ]
  },
  {
   "cell_type": "code",
   "execution_count": null,
   "metadata": {},
   "outputs": [],
   "source": [
    "i = geemap.shp_to_ee(r\"E:\\temp\\Shandong\\shandong_line_2018_Buffer.shp\", encoding=\"GBK\")\n",
    "Map.addLayer(i, {}, \"i\")"
   ]
  },
  {
   "cell_type": "code",
   "execution_count": null,
   "metadata": {},
   "outputs": [],
   "source": [
    "roi = ee.FeatureCollection(\"users/2431566134liumonarch/monarch/Bangladesh\").geometry().buffer(10000)\n",
    "\n",
    "Map.addLayer(roi, {}, \"roi\")"
   ]
  },
  {
   "cell_type": "code",
   "execution_count": null,
   "metadata": {},
   "outputs": [],
   "source": [
    "# 在上图绘制需要下载的区域然后再执行这一步\n",
    "Map.draw_features  # 查看绘制图层信息"
   ]
  },
  {
   "cell_type": "code",
   "execution_count": null,
   "metadata": {},
   "outputs": [],
   "source": [
    "roi = Map.draw_features[0].geometry() # 选择指定绘制区域作为下载范围，这里选择的是第一个即0"
   ]
  },
  {
   "cell_type": "code",
   "execution_count": null,
   "metadata": {},
   "outputs": [],
   "source": [
    "class para:\n",
    "    start_time = '2001-05' # 开始时间\n",
    "    end_time = '2001-07'   # 结束时间\n",
    "    outpath1 = 'E:/temp/Shandong'\n",
    "    outpath = 'F:/文件/工作/孟印缅边界/MOD11A2/'   # 下载文件保存文件夹路径,路径符号用正斜杠，且以正斜杠结尾\n",
    "    file_format = '.tif'         # 下载文件保存格式\n"
   ]
  },
  {
   "cell_type": "code",
   "execution_count": null,
   "metadata": {},
   "outputs": [],
   "source": [
    "if not os.path.exists(para.outpath):\n",
    "    os.makedirs(para.outpath)\n",
    "if not os.path.exists(para.outpath1):\n",
    "    os.makedirs(para.outpath1)"
   ]
  },
  {
   "cell_type": "code",
   "execution_count": null,
   "metadata": {},
   "outputs": [],
   "source": [
    "image = ee.ImageCollection(\"MODIS/006/MOD11A2\").filterDate(para.start_time, para.end_time) # 引用方法到gee里面复制\n",
    "# filterDate确定时间范围\n",
    "name = image.aggregate_array('system:id').getInfo()   # 得到地图id"
   ]
  },
  {
   "cell_type": "code",
   "execution_count": null,
   "metadata": {},
   "outputs": [],
   "source": [
    "name"
   ]
  },
  {
   "cell_type": "code",
   "execution_count": null,
   "metadata": {},
   "outputs": [],
   "source": [
    "Layer = ee.Image('MODIS/006/MOD11A2/2001_06_26').select('LST_Day_1km')\n",
    "Map.addLayer(Layer, {}, \"Layer1\")"
   ]
  },
  {
   "cell_type": "code",
   "execution_count": null,
   "metadata": {},
   "outputs": [],
   "source": [
    "def dow(i): # 用地图id做循环\n",
    "    Layer = ee.Image(i).select('LST_Day_1km') # 使用地图，select为确定地图波段，可以去除，则为全波段\n",
    "    # 保存文件名为地图id加文件格式\n",
    "    a = i.split('/')\n",
    "    str = '-'\n",
    "    b = str.join(a)\n",
    "    file = para.outpath + b + para.file_format\n",
    "    # 导出栅格影像，file_per_band为是否按波段分别导出\n",
    "    geemap.ee_export_image(Layer, filename=file, region=roi,file_per_band=True)"
   ]
  },
  {
   "cell_type": "code",
   "execution_count": null,
   "metadata": {},
   "outputs": [],
   "source": [
    "from concurrent.futures.thread import ThreadPoolExecutor\n",
    "with ThreadPoolExecutor(max_workers=10) as executor:\n",
    "    executor.map(dow, name)"
   ]
  },
  {
   "cell_type": "code",
   "execution_count": null,
   "metadata": {},
   "outputs": [],
   "source": [
    "image = ee.ImageCollection(\"MODIS/006/MOD13A2\").filterDate(para.start_time, para.end_time) # 引用方法到gee里面复制\n",
    "# filterDate确定时间范围\n",
    "name = image.aggregate_array('system:id').getInfo()   # 得到地图id"
   ]
  },
  {
   "cell_type": "code",
   "execution_count": null,
   "metadata": {},
   "outputs": [],
   "source": [
    "def dow1(i):  # 用地图id做循环\n",
    "    Layer = ee.Image(i).select('NDVI') # 使用地图，select为确定地图波段，可以去除，则为全波段\n",
    "    # 保存文件名为地图id加文件格式\n",
    "    a = i.split('/')\n",
    "    str = '-'\n",
    "    b = str.join(a)\n",
    "    file = para.outpath1 + b + para.file_format\n",
    "    # 导出栅格影像，file_per_band为是否按波段分别导出\n",
    "    geemap.ee_export_image(Layer, filename=file, region=roi,file_per_band=True)"
   ]
  },
  {
   "cell_type": "code",
   "execution_count": null,
   "metadata": {},
   "outputs": [],
   "source": [
    "with ThreadPoolExecutor(max_workers=10) as executor:\n",
    "    executor.map(dow1, name)"
   ]
  },
  {
   "cell_type": "code",
   "execution_count": null,
   "metadata": {},
   "outputs": [],
   "source": []
  }
 ],
 "metadata": {
  "kernelspec": {
   "display_name": "Python 3",
   "language": "python",
   "name": "python3"
  },
  "language_info": {
   "codemirror_mode": {
    "name": "ipython",
    "version": 3
   },
   "file_extension": ".py",
   "mimetype": "text/x-python",
   "name": "python",
   "nbconvert_exporter": "python",
   "pygments_lexer": "ipython3",
   "version": "3.8.3"
  }
 },
 "nbformat": 4,
 "nbformat_minor": 4
}
