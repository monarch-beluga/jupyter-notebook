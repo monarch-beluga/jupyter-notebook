{
 "cells": [
  {
   "cell_type": "code",
   "execution_count": 1,
   "metadata": {},
   "outputs": [],
   "source": [
    "import geemap\n",
    "import ee"
   ]
  },
  {
   "cell_type": "code",
   "execution_count": 2,
   "metadata": {
    "scrolled": false
   },
   "outputs": [
    {
     "data": {
      "application/vnd.jupyter.widget-view+json": {
       "model_id": "fe62e9f7ba304dda813ed0bebf18d351",
       "version_major": 2,
       "version_minor": 0
      },
      "text/plain": [
       "Map(center=[31.25, 110.1], controls=(WidgetControl(options=['position'], widget=HBox(children=(ToggleButton(va…"
      ]
     },
     "metadata": {},
     "output_type": "display_data"
    }
   ],
   "source": [
    "Map = geemap.Map(center=(36, 117))\n",
    "Map.setCenter(110.10, 31.25, 11)\n",
    "Map"
   ]
  },
  {
   "cell_type": "code",
   "execution_count": 9,
   "metadata": {},
   "outputs": [],
   "source": [
    "roi = Map.draw_last_feature.geometry()"
   ]
  },
  {
   "cell_type": "code",
   "execution_count": null,
   "metadata": {},
   "outputs": [],
   "source": [
    "roi = ee.FeatureCollection(\"users/2431566134liumonarch/monarch/nankang\")\n",
    "Map.addLayer(roi, {}, \"roi\")"
   ]
  },
  {
   "cell_type": "code",
   "execution_count": 10,
   "metadata": {},
   "outputs": [],
   "source": [
    "images = (ee.ImageCollection(\"LANDSAT/LC08/C01/T1_RT\").filterBounds(roi)\n",
    "            .filterDate(\"2010-01\",\"2020-12\").sort(\"CLOUD_COVER\"))\n"
   ]
  },
  {
   "cell_type": "code",
   "execution_count": 11,
   "metadata": {
    "scrolled": true
   },
   "outputs": [
    {
     "data": {
      "text/plain": [
       "['LANDSAT/LC08/C01/T1_RT/LC08_122042_20151018',\n",
       " 'LANDSAT/LC08/C01/T1_RT/LC08_122041_20131129',\n",
       " 'LANDSAT/LC08/C01/T1_RT/LC08_122041_20151018',\n",
       " 'LANDSAT/LC08/C01/T1_RT/LC08_122041_20160207',\n",
       " 'LANDSAT/LC08/C01/T1_RT/LC08_122042_20131129',\n",
       " 'LANDSAT/LC08/C01/T1_RT/LC08_122042_20160207',\n",
       " 'LANDSAT/LC08/C01/T1_RT/LC08_122041_20131012',\n",
       " 'LANDSAT/LC08/C01/T1_RT/LC08_122041_20171210',\n",
       " 'LANDSAT/LC08/C01/T1_RT/LC08_122042_20131231',\n",
       " 'LANDSAT/LC08/C01/T1_RT/LC08_122041_20150103',\n",
       " 'LANDSAT/LC08/C01/T1_RT/LC08_122041_20131231',\n",
       " 'LANDSAT/LC08/C01/T1_RT/LC08_122041_20140201',\n",
       " 'LANDSAT/LC08/C01/T1_RT/LC08_122041_20170414',\n",
       " 'LANDSAT/LC08/C01/T1_RT/LC08_122042_20150119',\n",
       " 'LANDSAT/LC08/C01/T1_RT/LC08_122042_20200218',\n",
       " 'LANDSAT/LC08/C01/T1_RT/LC08_122041_20200218',\n",
       " 'LANDSAT/LC08/C01/T1_RT/LC08_122041_20191114',\n",
       " 'LANDSAT/LC08/C01/T1_RT/LC08_122042_20140201',\n",
       " 'LANDSAT/LC08/C01/T1_RT/LC08_122042_20141218',\n",
       " 'LANDSAT/LC08/C01/T1_RT/LC08_122041_20180417',\n",
       " 'LANDSAT/LC08/C01/T1_RT/LC08_122042_20141015',\n",
       " 'LANDSAT/LC08/C01/T1_RT/LC08_122041_20190911',\n",
       " 'LANDSAT/LC08/C01/T1_RT/LC08_122041_20151002',\n",
       " 'LANDSAT/LC08/C01/T1_RT/LC08_122041_20141015',\n",
       " 'LANDSAT/LC08/C01/T1_RT/LC08_122042_20131012',\n",
       " 'LANDSAT/LC08/C01/T1_RT/LC08_122041_20130809',\n",
       " 'LANDSAT/LC08/C01/T1_RT/LC08_122041_20150119',\n",
       " 'LANDSAT/LC08/C01/T1_RT/LC08_122042_20150103',\n",
       " 'LANDSAT/LC08/C01/T1_RT/LC08_122042_20181127',\n",
       " 'LANDSAT/LC08/C01/T1_RT/LC08_122042_20180417',\n",
       " 'LANDSAT/LC08/C01/T1_RT/LC08_122042_20140116',\n",
       " 'LANDSAT/LC08/C01/T1_RT/LC08_122042_20170820',\n",
       " 'LANDSAT/LC08/C01/T1_RT/LC08_122042_20161207',\n",
       " 'LANDSAT/LC08/C01/T1_RT/LC08_122041_20170430',\n",
       " 'LANDSAT/LC08/C01/T1_RT/LC08_122042_20171210',\n",
       " 'LANDSAT/LC08/C01/T1_RT/LC08_122041_20130724',\n",
       " 'LANDSAT/LC08/C01/T1_RT/LC08_122042_20161105',\n",
       " 'LANDSAT/LC08/C01/T1_RT/LC08_122042_20170414',\n",
       " 'LANDSAT/LC08/C01/T1_RT/LC08_122042_20180111',\n",
       " 'LANDSAT/LC08/C01/T1_RT/LC08_122041_20181127',\n",
       " 'LANDSAT/LC08/C01/T1_RT/LC08_122042_20191114',\n",
       " 'LANDSAT/LC08/C01/T1_RT/LC08_122042_20200828',\n",
       " 'LANDSAT/LC08/C01/T1_RT/LC08_122041_20161105',\n",
       " 'LANDSAT/LC08/C01/T1_RT/LC08_122042_20130809',\n",
       " 'LANDSAT/LC08/C01/T1_RT/LC08_122041_20200828',\n",
       " 'LANDSAT/LC08/C01/T1_RT/LC08_122041_20190725',\n",
       " 'LANDSAT/LC08/C01/T1_RT/LC08_122041_20141218',\n",
       " 'LANDSAT/LC08/C01/T1_RT/LC08_122042_20171226',\n",
       " 'LANDSAT/LC08/C01/T1_RT/LC08_122041_20160513',\n",
       " 'LANDSAT/LC08/C01/T1_RT/LC08_122042_20170124',\n",
       " 'LANDSAT/LC08/C01/T1_RT/LC08_122042_20160801',\n",
       " 'LANDSAT/LC08/C01/T1_RT/LC08_122041_20200524',\n",
       " 'LANDSAT/LC08/C01/T1_RT/LC08_122041_20170820',\n",
       " 'LANDSAT/LC08/C01/T1_RT/LC08_122042_20150916',\n",
       " 'LANDSAT/LC08/C01/T1_RT/LC08_122041_20140828',\n",
       " 'LANDSAT/LC08/C01/T1_RT/LC08_122041_20160801',\n",
       " 'LANDSAT/LC08/C01/T1_RT/LC08_122041_20161207',\n",
       " 'LANDSAT/LC08/C01/T1_RT/LC08_122042_20190911',\n",
       " 'LANDSAT/LC08/C01/T1_RT/LC08_122042_20180807',\n",
       " 'LANDSAT/LC08/C01/T1_RT/LC08_122042_20180401',\n",
       " 'LANDSAT/LC08/C01/T1_RT/LC08_122042_20161223',\n",
       " 'LANDSAT/LC08/C01/T1_RT/LC08_122042_20191029',\n",
       " 'LANDSAT/LC08/C01/T1_RT/LC08_122041_20150916',\n",
       " 'LANDSAT/LC08/C01/T1_RT/LC08_122042_20170430',\n",
       " 'LANDSAT/LC08/C01/T1_RT/LC08_122041_20180212',\n",
       " 'LANDSAT/LC08/C01/T1_RT/LC08_122041_20130910',\n",
       " 'LANDSAT/LC08/C01/T1_RT/LC08_122041_20140711',\n",
       " 'LANDSAT/LC08/C01/T1_RT/LC08_122041_20180228',\n",
       " 'LANDSAT/LC08/C01/T1_RT/LC08_122042_20150714',\n",
       " 'LANDSAT/LC08/C01/T1_RT/LC08_122042_20140828',\n",
       " 'LANDSAT/LC08/C01/T1_RT/LC08_122042_20180519',\n",
       " 'LANDSAT/LC08/C01/T1_RT/LC08_122042_20180212',\n",
       " 'LANDSAT/LC08/C01/T1_RT/LC08_122042_20130910',\n",
       " 'LANDSAT/LC08/C01/T1_RT/LC08_122041_20171226',\n",
       " 'LANDSAT/LC08/C01/T1_RT/LC08_122041_20140116',\n",
       " 'LANDSAT/LC08/C01/T1_RT/LC08_122041_20180807',\n",
       " 'LANDSAT/LC08/C01/T1_RT/LC08_122041_20180401',\n",
       " 'LANDSAT/LC08/C01/T1_RT/LC08_122041_20130708',\n",
       " 'LANDSAT/LC08/C01/T1_RT/LC08_122041_20150730',\n",
       " 'LANDSAT/LC08/C01/T1_RT/LC08_122041_20160817',\n",
       " 'LANDSAT/LC08/C01/T1_RT/LC08_122042_20190927',\n",
       " 'LANDSAT/LC08/C01/T1_RT/LC08_122042_20200524',\n",
       " 'LANDSAT/LC08/C01/T1_RT/LC08_122041_20180519',\n",
       " 'LANDSAT/LC08/C01/T1_RT/LC08_122042_20130724',\n",
       " 'LANDSAT/LC08/C01/T1_RT/LC08_122041_20150714',\n",
       " 'LANDSAT/LC08/C01/T1_RT/LC08_122042_20150730',\n",
       " 'LANDSAT/LC08/C01/T1_RT/LC08_122042_20151002',\n",
       " 'LANDSAT/LC08/C01/T1_RT/LC08_122041_20170804',\n",
       " 'LANDSAT/LC08/C01/T1_RT/LC08_122041_20130521',\n",
       " 'LANDSAT/LC08/C01/T1_RT/LC08_122041_20191029',\n",
       " 'LANDSAT/LC08/C01/T1_RT/LC08_122042_20190725',\n",
       " 'LANDSAT/LC08/C01/T1_RT/LC08_122042_20140609',\n",
       " 'LANDSAT/LC08/C01/T1_RT/LC08_122041_20190927',\n",
       " 'LANDSAT/LC08/C01/T1_RT/LC08_122041_20180722',\n",
       " 'LANDSAT/LC08/C01/T1_RT/LC08_122041_20170516',\n",
       " 'LANDSAT/LC08/C01/T1_RT/LC08_122042_20140711',\n",
       " 'LANDSAT/LC08/C01/T1_RT/LC08_122042_20200101',\n",
       " 'LANDSAT/LC08/C01/T1_RT/LC08_122041_20181026',\n",
       " 'LANDSAT/LC08/C01/T1_RT/LC08_122041_20180823',\n",
       " 'LANDSAT/LC08/C01/T1_RT/LC08_122042_20190810',\n",
       " 'LANDSAT/LC08/C01/T1_RT/LC08_122041_20150831',\n",
       " 'LANDSAT/LC08/C01/T1_RT/LC08_122041_20150612',\n",
       " 'LANDSAT/LC08/C01/T1_RT/LC08_122042_20170804',\n",
       " 'LANDSAT/LC08/C01/T1_RT/LC08_122041_20200508',\n",
       " 'LANDSAT/LC08/C01/T1_RT/LC08_122041_20140609',\n",
       " 'LANDSAT/LC08/C01/T1_RT/LC08_122041_20161004',\n",
       " 'LANDSAT/LC08/C01/T1_RT/LC08_122042_20141031',\n",
       " 'LANDSAT/LC08/C01/T1_RT/LC08_122042_20180228',\n",
       " 'LANDSAT/LC08/C01/T1_RT/LC08_122041_20141202',\n",
       " 'LANDSAT/LC08/C01/T1_RT/LC08_122042_20180823',\n",
       " 'LANDSAT/LC08/C01/T1_RT/LC08_122042_20191130',\n",
       " 'LANDSAT/LC08/C01/T1_RT/LC08_122042_20140727',\n",
       " 'LANDSAT/LC08/C01/T1_RT/LC08_122042_20140929',\n",
       " 'LANDSAT/LC08/C01/T1_RT/LC08_122042_20160513',\n",
       " 'LANDSAT/LC08/C01/T1_RT/LC08_122041_20161223',\n",
       " 'LANDSAT/LC08/C01/T1_RT/LC08_122042_20180722',\n",
       " 'LANDSAT/LC08/C01/T1_RT/LC08_122041_20131028',\n",
       " 'LANDSAT/LC08/C01/T1_RT/LC08_122041_20151221',\n",
       " 'LANDSAT/LC08/C01/T1_RT/LC08_122042_20170516',\n",
       " 'LANDSAT/LC08/C01/T1_RT/LC08_122041_20190810',\n",
       " 'LANDSAT/LC08/C01/T1_RT/LC08_122041_20130825',\n",
       " 'LANDSAT/LC08/C01/T1_RT/LC08_122041_20191216',\n",
       " 'LANDSAT/LC08/C01/T1_RT/LC08_122042_20130419',\n",
       " 'LANDSAT/LC08/C01/T1_RT/LC08_122042_20161004',\n",
       " 'LANDSAT/LC08/C01/T1_RT/LC08_122041_20160902',\n",
       " 'LANDSAT/LC08/C01/T1_RT/LC08_122042_20160716',\n",
       " 'LANDSAT/LC08/C01/T1_RT/LC08_122041_20200321',\n",
       " 'LANDSAT/LC08/C01/T1_RT/LC08_122041_20140321',\n",
       " 'LANDSAT/LC08/C01/T1_RT/LC08_122042_20150628',\n",
       " 'LANDSAT/LC08/C01/T1_RT/LC08_122041_20171108',\n",
       " 'LANDSAT/LC08/C01/T1_RT/LC08_122041_20150628',\n",
       " 'LANDSAT/LC08/C01/T1_RT/LC08_122042_20131028',\n",
       " 'LANDSAT/LC08/C01/T1_RT/LC08_122041_20140305',\n",
       " 'LANDSAT/LC08/C01/T1_RT/LC08_122041_20140929',\n",
       " 'LANDSAT/LC08/C01/T1_RT/LC08_122042_20200508',\n",
       " 'LANDSAT/LC08/C01/T1_RT/LC08_122041_20190826',\n",
       " 'LANDSAT/LC08/C01/T1_RT/LC08_122041_20140913',\n",
       " 'LANDSAT/LC08/C01/T1_RT/LC08_122042_20190130',\n",
       " 'LANDSAT/LC08/C01/T1_RT/LC08_122042_20130825',\n",
       " 'LANDSAT/LC08/C01/T1_RT/LC08_122042_20151221',\n",
       " 'LANDSAT/LC08/C01/T1_RT/LC08_122041_20170719',\n",
       " 'LANDSAT/LC08/C01/T1_RT/LC08_122042_20170921',\n",
       " 'LANDSAT/LC08/C01/T1_RT/LC08_122042_20190826',\n",
       " 'LANDSAT/LC08/C01/T1_RT/LC08_122041_20160918',\n",
       " 'LANDSAT/LC08/C01/T1_RT/LC08_122041_20170209',\n",
       " 'LANDSAT/LC08/C01/T1_RT/LC08_122041_20150324',\n",
       " 'LANDSAT/LC08/C01/T1_RT/LC08_122041_20170225',\n",
       " 'LANDSAT/LC08/C01/T1_RT/LC08_122041_20200101',\n",
       " 'LANDSAT/LC08/C01/T1_RT/LC08_122041_20170617',\n",
       " 'LANDSAT/LC08/C01/T1_RT/LC08_122042_20130622',\n",
       " 'LANDSAT/LC08/C01/T1_RT/LC08_122042_20171007',\n",
       " 'LANDSAT/LC08/C01/T1_RT/LC08_122042_20141202',\n",
       " 'LANDSAT/LC08/C01/T1_RT/LC08_122042_20160817',\n",
       " 'LANDSAT/LC08/C01/T1_RT/LC08_122042_20200711',\n",
       " 'LANDSAT/LC08/C01/T1_RT/LC08_122042_20130708',\n",
       " 'LANDSAT/LC08/C01/T1_RT/LC08_122041_20180111',\n",
       " 'LANDSAT/LC08/C01/T1_RT/LC08_122041_20201116',\n",
       " 'LANDSAT/LC08/C01/T1_RT/LC08_122042_20180316',\n",
       " 'LANDSAT/LC08/C01/T1_RT/LC08_122042_20140913',\n",
       " 'LANDSAT/LC08/C01/T1_RT/LC08_122042_20171023',\n",
       " 'LANDSAT/LC08/C01/T1_RT/LC08_122041_20200711',\n",
       " 'LANDSAT/LC08/C01/T1_RT/LC08_122042_20150815',\n",
       " 'LANDSAT/LC08/C01/T1_RT/LC08_122042_20181111',\n",
       " 'LANDSAT/LC08/C01/T1_RT/LC08_122041_20140727',\n",
       " 'LANDSAT/LC08/C01/T1_RT/LC08_122042_20200202',\n",
       " 'LANDSAT/LC08/C01/T1_RT/LC08_122042_20170209',\n",
       " 'LANDSAT/LC08/C01/T1_RT/LC08_122042_20140321',\n",
       " 'LANDSAT/LC08/C01/T1_RT/LC08_122042_20201116',\n",
       " 'LANDSAT/LC08/C01/T1_RT/LC08_122042_20200727',\n",
       " 'LANDSAT/LC08/C01/T1_RT/LC08_122042_20130521',\n",
       " 'LANDSAT/LC08/C01/T1_RT/LC08_122042_20150220',\n",
       " 'LANDSAT/LC08/C01/T1_RT/LC08_122042_20161020',\n",
       " 'LANDSAT/LC08/C01/T1_RT/LC08_122041_20201031',\n",
       " 'LANDSAT/LC08/C01/T1_RT/LC08_122041_20200406',\n",
       " 'LANDSAT/LC08/C01/T1_RT/LC08_122042_20150308',\n",
       " 'LANDSAT/LC08/C01/T1_RT/LC08_122042_20201031',\n",
       " 'LANDSAT/LC08/C01/T1_RT/LC08_122042_20141116',\n",
       " 'LANDSAT/LC08/C01/T1_RT/LC08_122041_20150815',\n",
       " 'LANDSAT/LC08/C01/T1_RT/LC08_122042_20150324',\n",
       " 'LANDSAT/LC08/C01/T1_RT/LC08_122042_20140524',\n",
       " 'LANDSAT/LC08/C01/T1_RT/LC08_122042_20160918',\n",
       " 'LANDSAT/LC08/C01/T1_RT/LC08_122042_20160326',\n",
       " 'LANDSAT/LC08/C01/T1_RT/LC08_122042_20180908',\n",
       " 'LANDSAT/LC08/C01/T1_RT/LC08_122041_20170124',\n",
       " 'LANDSAT/LC08/C01/T1_RT/LC08_122042_20151119',\n",
       " 'LANDSAT/LC08/C01/T1_RT/LC08_122041_20160614',\n",
       " 'LANDSAT/LC08/C01/T1_RT/LC08_122042_20190303',\n",
       " 'LANDSAT/LC08/C01/T1_RT/LC08_122041_20140508',\n",
       " 'LANDSAT/LC08/C01/T1_RT/LC08_122041_20151103',\n",
       " 'LANDSAT/LC08/C01/T1_RT/LC08_122041_20190319',\n",
       " 'LANDSAT/LC08/C01/T1_RT/LC08_122041_20190130',\n",
       " 'LANDSAT/LC08/C01/T1_RT/LC08_122041_20160411',\n",
       " 'LANDSAT/LC08/C01/T1_RT/LC08_122041_20171023',\n",
       " 'LANDSAT/LC08/C01/T1_RT/LC08_122041_20171124',\n",
       " 'LANDSAT/LC08/C01/T1_RT/LC08_122041_20180908',\n",
       " 'LANDSAT/LC08/C01/T1_RT/LC08_122041_20160326',\n",
       " 'LANDSAT/LC08/C01/T1_RT/LC08_122042_20190215',\n",
       " 'LANDSAT/LC08/C01/T1_RT/LC08_122041_20191130',\n",
       " 'LANDSAT/LC08/C01/T1_RT/LC08_122041_20200727',\n",
       " 'LANDSAT/LC08/C01/T1_RT/LC08_122042_20200321',\n",
       " 'LANDSAT/LC08/C01/T1_RT/LC08_121041_20130328',\n",
       " 'LANDSAT/LC08/C01/T1_RT/LC08_122041_20180503']"
      ]
     },
     "execution_count": 11,
     "metadata": {},
     "output_type": "execute_result"
    }
   ],
   "source": [
    "images.aggregate_array(\"system:id\").getInfo()"
   ]
  },
  {
   "cell_type": "code",
   "execution_count": 12,
   "metadata": {},
   "outputs": [],
   "source": [
    "image = ee.Image('LANDSAT/LC08/C01/T1_RT/LC08_122042_20151018')\n",
    "Map.addLayer(image, {'bands': ['B4', 'B3', 'B2']}, \"imag\")"
   ]
  },
  {
   "cell_type": "code",
   "execution_count": null,
   "metadata": {},
   "outputs": [],
   "source": [
    "roi = Map.draw_features[1].geometry()"
   ]
  },
  {
   "cell_type": "code",
   "execution_count": null,
   "metadata": {},
   "outputs": [],
   "source": [
    "geemap.ee_export_image_to_drive(image, description='LC08_121042_20201109_wuyun', folder='Image', region=roi, scale=1)"
   ]
  },
  {
   "cell_type": "code",
   "execution_count": 8,
   "metadata": {},
   "outputs": [
    {
     "name": "stdout",
     "output_type": "stream",
     "text": [
      "Generating URL ...\n",
      "Downloading data from https://earthengine.googleapis.com/v1alpha/projects/earthengine-legacy/thumbnails/ef5a337ad3e5df4aed151524b52eec8c-ddff1c292b8ff72acc3ccac13ee09abf:getPixels\n",
      "Please wait ...\n",
      "Data downloaded to F:\\文件\\学习\\遥感\\作业\\LC08_124047_20131026_suiku.tif\n"
     ]
    }
   ],
   "source": [
    "file = r\"F:\\文件\\学习\\遥感\\作业\\LC08_124047_20131026_suiku.tif\"\n",
    "geemap.ee_export_image(image, filename=file, region=roi, scale=15, file_per_band=False)"
   ]
  },
  {
   "cell_type": "code",
   "execution_count": null,
   "metadata": {},
   "outputs": [],
   "source": [
    "Map.draw_features"
   ]
  },
  {
   "cell_type": "code",
   "execution_count": null,
   "metadata": {},
   "outputs": [],
   "source": []
  },
  {
   "cell_type": "code",
   "execution_count": null,
   "metadata": {},
   "outputs": [],
   "source": []
  }
 ],
 "metadata": {
  "kernelspec": {
   "display_name": "Python 3",
   "language": "python",
   "name": "python3"
  },
  "language_info": {
   "codemirror_mode": {
    "name": "ipython",
    "version": 3
   },
   "file_extension": ".py",
   "mimetype": "text/x-python",
   "name": "python",
   "nbconvert_exporter": "python",
   "pygments_lexer": "ipython3",
   "version": "3.8.3"
  },
  "varInspector": {
   "cols": {
    "lenName": 16,
    "lenType": 16,
    "lenVar": 40
   },
   "kernels_config": {
    "python": {
     "delete_cmd_postfix": "",
     "delete_cmd_prefix": "del ",
     "library": "var_list.py",
     "varRefreshCmd": "print(var_dic_list())"
    },
    "r": {
     "delete_cmd_postfix": ") ",
     "delete_cmd_prefix": "rm(",
     "library": "var_list.r",
     "varRefreshCmd": "cat(var_dic_list()) "
    }
   },
   "position": {
    "height": "296.203px",
    "left": "1436.56px",
    "right": "20px",
    "top": "126px",
    "width": "355.75px"
   },
   "types_to_exclude": [
    "module",
    "function",
    "builtin_function_or_method",
    "instance",
    "_Feature"
   ],
   "window_display": true
  }
 },
 "nbformat": 4,
 "nbformat_minor": 4
}
